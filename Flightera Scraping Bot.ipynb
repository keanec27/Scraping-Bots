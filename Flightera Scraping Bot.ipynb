{
 "cells": [
  {
   "cell_type": "markdown",
   "metadata": {},
   "source": [
    "# Flightera Web scraping\n",
    "This notebook web scrapes flight data from flightera the code below does it on what is displayed if needed for a certain time frame write a loop which changes the date in the url"
   ]
  },
  {
   "cell_type": "code",
   "execution_count": 1,
   "metadata": {},
   "outputs": [],
   "source": [
    "from selenium import webdriver\n",
    "from selenium.webdriver.common.by import By\n",
    "from selenium.webdriver.common.action_chains import ActionChains\n",
    "from selenium.webdriver.common.keys import Keys\n",
    "import pandas as pd"
   ]
  },
  {
   "cell_type": "markdown",
   "metadata": {},
   "source": [
    "##### Data Scraping"
   ]
  },
  {
   "cell_type": "code",
   "execution_count": null,
   "metadata": {},
   "outputs": [],
   "source": [
    "from selenium import webdriver\n",
    "from selenium.webdriver.common.by import By\n",
    "from selenium.webdriver.common.action_chains import ActionChains\n",
    "from selenium.webdriver.common.keys import Keys\n",
    "import pandas as pd"
   ]
  },
  {
   "cell_type": "code",
   "execution_count": null,
   "metadata": {},
   "outputs": [],
   "source": [
    "options = webdriver.ChromeOptions()\n",
    "driver = webdriver.Chrome(options=options)"
   ]
  },
  {
   "cell_type": "code",
   "execution_count": null,
   "metadata": {},
   "outputs": [],
   "source": [
    "sample_url=\"https://www.flightera.net/en/airport/Mumbai/VABB/departure/\"\n",
    "#driver.get(url)\n",
    "driver.get(sample_url)\n",
    "driver.maximize()"
   ]
  },
  {
   "cell_type": "code",
   "execution_count": null,
   "metadata": {},
   "outputs": [],
   "source": [
    "elements = driver.find_elements(By.XPATH,\"//body/div/main/div/div[1]/div[1]/div/table/tbody/tr\")"
   ]
  },
  {
   "cell_type": "code",
   "execution_count": null,
   "metadata": {},
   "outputs": [],
   "source": [
    "len(elements)"
   ]
  },
  {
   "cell_type": "code",
   "execution_count": null,
   "metadata": {},
   "outputs": [],
   "source": [
    "dates = elements[1].find_elements(By.XPATH,\"./td[2]\")"
   ]
  },
  {
   "cell_type": "code",
   "execution_count": null,
   "metadata": {},
   "outputs": [],
   "source": [
    "for d in dates:\n",
    "    print(d.text.split(' ')[0])\n",
    "    print(\"========\")"
   ]
  },
  {
   "cell_type": "code",
   "execution_count": null,
   "metadata": {},
   "outputs": [],
   "source": [
    "flight_details = []\n",
    "for element in elements:\n",
    "    try:\n",
    "        date = element.find_element(By.XPATH,\"./td[1]\").text.split('\\n')[0]\n",
    "        flight_no = element.find_element(By.XPATH,\"./td[2]\").text.split(' ')[0]\n",
    "        to = element.find_element(By.XPATH,\"./td[3]\").text.split(' ')[0]\n",
    "        scheduled_departure =  element.find_element(By.XPATH,\"./td[4]\").text.split('\\n')[0]\n",
    "        departed = element.find_element(By.XPATH,\"./td[5]\").text.split('\\n')[0]\n",
    "        departure_delay = element.find_element(By.XPATH,\"./td[5]\").text.split('\\n')[1]\n",
    "        arrival = element.find_element(By.XPATH,\"./td[6]\").text.split('\\n')[0]\n",
    "        arrival_delay = element.find_element(By.XPATH,\"./td[6]\").text.split('\\n')[1]\n",
    "        duration = element.find_element(By.XPATH,\"./td[7]\").text\n",
    "\n",
    "        flight_details.append([date,flight_no,to,scheduled_departure,departed,departure_delay,arrival,arrival_delay,duration])\n",
    "    except:\n",
    "        pass\n",
    "    \n",
    "    "
   ]
  },
  {
   "cell_type": "code",
   "execution_count": null,
   "metadata": {},
   "outputs": [],
   "source": [
    "flight_details"
   ]
  },
  {
   "cell_type": "code",
   "execution_count": null,
   "metadata": {},
   "outputs": [],
   "source": [
    "df = pd.DataFrame(flight_details,columns=['date','flight_no','to','scheduled_departure','departed','departure_delay','arrival','arrival_delay','duration'])"
   ]
  },
  {
   "cell_type": "code",
   "execution_count": null,
   "metadata": {},
   "outputs": [],
   "source": [
    "df.head()"
   ]
  }
 ],
 "metadata": {
  "kernelspec": {
   "display_name": "main_env",
   "language": "python",
   "name": "main_env"
  },
  "language_info": {
   "codemirror_mode": {
    "name": "ipython",
    "version": 3
   },
   "file_extension": ".py",
   "mimetype": "text/x-python",
   "name": "python",
   "nbconvert_exporter": "python",
   "pygments_lexer": "ipython3",
   "version": "3.10.9"
  }
 },
 "nbformat": 4,
 "nbformat_minor": 2
}
