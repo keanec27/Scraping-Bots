{
 "cells": [
  {
   "cell_type": "markdown",
   "id": "36f3c9e0",
   "metadata": {},
   "source": [
    "Creating a Scrapper bot that will scrape product data ie. (Title, price, rating, no_of_reviews) from Noon"
   ]
  },
  {
   "cell_type": "markdown",
   "id": "babd20ef",
   "metadata": {},
   "source": [
    "##### Importing the required modules"
   ]
  },
  {
   "cell_type": "code",
   "execution_count": 1,
   "id": "cc7e19fa",
   "metadata": {},
   "outputs": [],
   "source": [
    "from selenium import webdriver\n",
    "from selenium.webdriver.common.by import By\n",
    "from selenium.webdriver.common.action_chains import ActionChains\n",
    "from selenium.webdriver.common.keys import Keys\n",
    "import pandas as pd\n",
    "import time\n",
    "import numpy as np"
   ]
  },
  {
   "cell_type": "markdown",
   "id": "bf10bfcb",
   "metadata": {},
   "source": [
    "##### Opening the Chrome browser and getting to the desired page"
   ]
  },
  {
   "cell_type": "code",
   "execution_count": 125,
   "id": "f26cf7fc",
   "metadata": {},
   "outputs": [],
   "source": [
    "options = webdriver.ChromeOptions()\n",
    "driver = webdriver.Chrome(options=options)"
   ]
  },
  {
   "cell_type": "code",
   "execution_count": 126,
   "id": "e9494d6f",
   "metadata": {},
   "outputs": [],
   "source": [
    "driver.get(\"https://www.noon.com/uae-en/\")\n",
    "driver.maximize_window()"
   ]
  },
  {
   "cell_type": "code",
   "execution_count": 127,
   "id": "cbb6983c",
   "metadata": {},
   "outputs": [],
   "source": [
    "search_bar = driver.find_element(By.XPATH,\"//input[@id='searchBar']\")\n",
    "search_bar.click()"
   ]
  },
  {
   "cell_type": "code",
   "execution_count": 128,
   "id": "f3187438",
   "metadata": {},
   "outputs": [],
   "source": [
    "search_bar.send_keys(\"Monitor\")\n",
    "search_bar.send_keys(Keys.ENTER)"
   ]
  },
  {
   "cell_type": "markdown",
   "id": "5a25a4e1",
   "metadata": {},
   "source": [
    "##### Formulating Script"
   ]
  },
  {
   "cell_type": "markdown",
   "id": "08e4042b",
   "metadata": {},
   "source": [
    "Idea is to open every product on the page and take the information go back and do the same for the rest "
   ]
  },
  {
   "cell_type": "code",
   "execution_count": null,
   "id": "3794d7f8",
   "metadata": {},
   "outputs": [],
   "source": [
    "#clicking on the product\n",
    "driver.find_element(By.XPATH, \"//span[2]//div[1]//a[1]//div[1]//div[1]//div[1]//div[1]//div[1]//div[2]//div[1]//div[2]//div[1]//div[1]//div[1]//img[1]\").click()"
   ]
  },
  {
   "cell_type": "code",
   "execution_count": 20,
   "id": "d846c525",
   "metadata": {},
   "outputs": [],
   "source": [
    "#getting the title from the main page\n",
    "title = driver.find_element(By.XPATH, \"//body//div//div//section//div//div//div//div//div//div//div//h1\").text"
   ]
  },
  {
   "cell_type": "code",
   "execution_count": 21,
   "id": "bfb44c16",
   "metadata": {},
   "outputs": [],
   "source": [
    "#getting the price from the main page.\n",
    "price = driver.find_element(By.XPATH, \"//div[@data-qa='div-price-now']\").text.split('\\n')[0]"
   ]
  },
  {
   "cell_type": "code",
   "execution_count": 18,
   "id": "d68dbaf7",
   "metadata": {},
   "outputs": [],
   "source": [
    "#getting the ratings and the number of reviews of the product\n",
    "overall = driver.find_element(By.XPATH,\"//body/div/div/section/div/div/div/div/div/div/div/div/div/div/div/div/a/div[1]\").text\n",
    "rating = overall.split('\\n')[0]\n",
    "reviews = overall.split('\\n')[1]"
   ]
  },
  {
   "cell_type": "code",
   "execution_count": 27,
   "id": "ed547eb2",
   "metadata": {},
   "outputs": [],
   "source": [
    "details = [title, price, rating, reviews]"
   ]
  },
  {
   "cell_type": "code",
   "execution_count": 28,
   "id": "b1e673ce",
   "metadata": {},
   "outputs": [
    {
     "data": {
      "text/plain": [
       "['24-Inch FHD, 180Hz, 1 ms , HDMI 2.0 Gaming Monitor (Adaptive Sync and G-Sync Compatible)GOPS24180VA Black',\n",
       " 'AED 429.00 ',\n",
       " '4.6',\n",
       " '201']"
      ]
     },
     "execution_count": 28,
     "metadata": {},
     "output_type": "execute_result"
    }
   ],
   "source": [
    "details"
   ]
  },
  {
   "cell_type": "markdown",
   "id": "40b33acb",
   "metadata": {},
   "source": [
    "##### Writing a loop to get the data of all the products in that page."
   ]
  },
  {
   "cell_type": "code",
   "execution_count": 104,
   "id": "5727cfcc",
   "metadata": {},
   "outputs": [],
   "source": [
    "# finding an XPATH which covers all the items on the page.\n",
    "products = driver.find_elements(By.XPATH, \"//body/div/div/section/div/div/div/div[2]/div[1]/span\")"
   ]
  },
  {
   "cell_type": "code",
   "execution_count": 105,
   "id": "b5028e35",
   "metadata": {},
   "outputs": [
    {
     "data": {
      "text/plain": [
       "50"
      ]
     },
     "execution_count": 105,
     "metadata": {},
     "output_type": "execute_result"
    }
   ],
   "source": [
    "len(products)"
   ]
  },
  {
   "cell_type": "code",
   "execution_count": 106,
   "id": "86cbe200",
   "metadata": {},
   "outputs": [],
   "source": [
    "#here we are using a try catch as not all spans are products so incase it doesnt have the info just pass\n",
    "details = []\n",
    "for product in products:\n",
    "    try:\n",
    "        link = product.find_element(By.XPATH, \"./div[1]/a[1]\").get_attribute('href')\n",
    "        driver.switch_to.new_window('tab')    #opens a new tab which means the driver switches into a new tab\n",
    "        driver.get(link)    \n",
    "        title = driver.find_element(By.XPATH, \"//body//div//div//section//div//div//div//div//div//div//div//h1\").text\n",
    "        price = driver.find_element(By.XPATH, \"//div[@data-qa='div-price-now']\").text.split('\\n')[0]\n",
    "        overall = driver.find_element(By.XPATH,\"//body/div/div/section/div/div/div/div/div/div/div/div/div/div/div/div/a/div[1]\").text\n",
    "        details.append([title, price,overall.split('\\n')[0],overall.split('\\n')[1] ])\n",
    "        driver.close()          #closing the opened tab \n",
    "        driver.switch_to.window(driver.window_handles[0])      #Switching back to the old tab.\n",
    "    except:\n",
    "        driver.close()           \n",
    "        driver.switch_to.window(driver.window_handles[0])\n",
    "        pass\n",
    "    "
   ]
  },
  {
   "cell_type": "code",
   "execution_count": 107,
   "id": "309372c4",
   "metadata": {},
   "outputs": [
    {
     "data": {
      "text/plain": [
       "[['27 inch Flat Monitor With FHD (1920X1080) Display, 3-sided borderless design, IPS, With Refresh Rate 75Hz, 5ms Response Time, AMD FreeSync LS27C310EAMXUE Black',\n",
       "  'AED 279.00 ',\n",
       "  '4.6',\n",
       "  '201'],\n",
       " ['24-Inch FHD, 180Hz, 1 ms , HDMI 2.0 Gaming Monitor (Adaptive Sync and G-Sync Compatible)GOPS24180VA Black',\n",
       "  'AED 429.00 ',\n",
       "  '4.3',\n",
       "  '80'],\n",
       " ['24 inch UltraGear FHD Gaming UI Monitor, 165Hz Refresh Rate, 1ms MBR Response Time, AMD FreeSync Premium, 3 Side Virtually Borderless, 16:9 Aspect Ratio, NTSC 70% Color Gamut | 24GQ50F-B Black',\n",
       "  'AED 435.00 ',\n",
       "  '4.7',\n",
       "  '191'],\n",
       " ['2.8” 270P Fix Cam Video Monitor With Night Light 800Mah Battery White',\n",
       "  'AED 256.00 ',\n",
       "  '3.8',\n",
       "  '10'],\n",
       " ['C27G2Z 27-Inch (VA / 1500R) Curved Gaming Monitor, 1920 × 1080 (FHD), 240Hz, 0.5ms, HDR Mode Visual Enhancement, HDMI 2.0 x 2, DisplayPort 1.2 x 1, FreeSync Premium tear-free immersion 27inch Black/Red',\n",
       "  'AED 899.00 ',\n",
       "  '4.6',\n",
       "  '142'],\n",
       " ['24 Inch IPS FHD Essential Monitor, 75hz Borderless Design, AMD FreeSync S3 S31C LS24C310 Black',\n",
       "  'AED 245.00 ',\n",
       "  '4.3',\n",
       "  '55'],\n",
       " ['27 Inch Curved 75hz  Monitor With 1000R Curvature, DisplayPort, HDMI, AMD FreeSync I LS27C390EAMXUE Black',\n",
       "  'AED 380.00 ',\n",
       "  '4.2',\n",
       "  '37'],\n",
       " ['Digital Audio Baby Monitor', 'AED 122.25 ', '4.0', '41'],\n",
       " ['24 Inch Essential Curved Monitor, 75Hz AMD FreeSync, Gameing Compatable, S3 S36C LS24C360 Black',\n",
       "  'AED 248.00 ',\n",
       "  '4.1',\n",
       "  '31'],\n",
       " ['27 Inch FHD (1920x1080) IPS 3-Side Borderless, Response Time 5 ms, Refresh Rate 75 Hz With AMD FreeSync, 27MP400-B 27inch Black',\n",
       "  'AED 299.00 ',\n",
       "  '4.4',\n",
       "  '140'],\n",
       " ['24 Inch FHD 75Hz 4ms Flat IPS Gaming Monitor GOB24FHD75IPS Black',\n",
       "  'AED 275.00 ',\n",
       "  '4.4',\n",
       "  '45'],\n",
       " ['Smart Wi Fi 1080P Video Baby Monitor System With 5 In. Display Night Light And Remote Access White',\n",
       "  'AED 562.15 ',\n",
       "  '5.0',\n",
       "  '1'],\n",
       " ['24-Inch Curved Business Monitor - Full HD, 1080P Resolution, 60 Hz Refresh Rate with HDMI and VGA ports 24N5C',\n",
       "  'AED 299.00 ',\n",
       "  '5.0',\n",
       "  '3'],\n",
       " ['24 FHD IPS Gaming Monitor, Ultra Slim Frame, 165Hz Refresh Rate, 1ms Response Time, 99% sRGB, FreeSync (G-Sync Compatible) VESA Mountable, HDMI / DisplayPort, Black | 24E3',\n",
       "  'AED 409.00 ',\n",
       "  '3.4',\n",
       "  '5'],\n",
       " ['30 inch Curved Gaming Monitor 200hz 1800R Curvature 2560 × 1080 WQHD Resolution 4K FreeSync AMD 21:09 Screen Ratio, RMMNT30HFCW Black',\n",
       "  'AED 890.00 ',\n",
       "  '4.2',\n",
       "  '128'],\n",
       " ['32 Inch LS32C390 Curved Monitor With 1000R Curvature, 75Hz 4ms Response Time, Built-in Speaker, AMD FreeSync, LS32C390EAMXUE Black',\n",
       "  'AED 510.00 ',\n",
       "  '3.7',\n",
       "  '18'],\n",
       " ['C27G3 27 inch (VA) Curved Gaming Monitor, FHD, 165Hz, 1ms, HDR Mode, 1000R Curvature, HDMI 1.4 x 2, DisplayPort 1.2 x 1, AMD FreeSync Premium Black',\n",
       "  'AED 699.00 ',\n",
       "  '4.3',\n",
       "  '21'],\n",
       " ['32 inch M8 4K UHD Flat Monitor, With Smart TV Experience and Camera, Max 60Hz Refresh Rate, 4ms Gtg Response Time, 16:9 Aspect Ratio, HDR10, IoT Hub, USB-C, Micro HDMI, LS32BM801UMXUE White',\n",
       "  'AED 1399.00 ',\n",
       "  '4.3',\n",
       "  '26'],\n",
       " ['34 Inch Odyssey G85SB Series OLED Ultra WQHD Curved Gaming Monitor, 175Hz, 0.1ms, USB Type-C, (3440 x 1440) DisplayHDR True Black 400, AMD FreeSync Premium Pro, Smart TV Experience, Advanced Game Streaming, LS34BG850SMXUE 2023 White',\n",
       "  'AED 2929.00 ',\n",
       "  '4.9',\n",
       "  '7'],\n",
       " ['22 Inch Full HD Monitor With AMD FreeSync, 100Hz Refresh Rate, On Screen Control, Stabiliser, 22MR410-B Black',\n",
       "  'AED 229.00 ',\n",
       "  '4.0',\n",
       "  '1'],\n",
       " ['27 inch UltraGear Gaming Monitor, 165Hz Refresh Rate, 1ms MBR Response Time, 1920x1080 Resolution, NTSC 72% Color Gamut, Freesync Premium Technology, Black | 27GQ50F-B Black',\n",
       "  'AED 590.00 ',\n",
       "  '4.5',\n",
       "  '151'],\n",
       " ['22 inch, Full HD (1920 x 1080) 75Hz Monitor, Ultra Thin Bezel Desktop Display, VESA, HDMI & VGA Port, Eye Care/Ergonomic Tilt, LED Monitor for PC, Black, 22N1',\n",
       "  'AED 199.00 ',\n",
       "  '5.0',\n",
       "  '2'],\n",
       " ['Odyssey g6 27 Inch Curved (1000R) Smart Gaming Monitor With 2K QHD 2560 × 1440 resolution and 240hz refresh rate 1ms GTG, HDMI 2.1, Wi-Fi, HDR600, FreeSync Premium Pro,  Speaker, Gaming Hub Black',\n",
       "  'AED 1097.00 ',\n",
       "  '4.8',\n",
       "  '58'],\n",
       " ['24-inch Gaming Monitor, TN, FHD, 144Hz, 1ms, AMD FreeSync Premium, G-SYNC Compatible, 1920 x 1080, VESA, 16.7 Million colors, TÜV Eye Comfort Raven Black',\n",
       "  'AED 389.00 ',\n",
       "  '4.0',\n",
       "  '5'],\n",
       " ['27 Inch FHD, 180Hz, 0.5 ms, HDMI 2.0 Gaming Monitor (Adaptive Sync and G-Sync Compatible) Fast VA, GOPS27180VA Black',\n",
       "  'AED 659.00 ',\n",
       "  '4.6',\n",
       "  '8'],\n",
       " ['27 inch Monitor S2721HN in Plane Switching IPS, Flicker Free Screen with Comfort View, Full HD 1080p 1920 x 1080 at 75 Hz with AMD Free Sync, with Dual HDMI Ports, 3 Sided Ultrathin Silver',\n",
       "  'AED 489.00 ',\n",
       "  '4.7',\n",
       "  '91'],\n",
       " ['27\" UltraGear Gaming Monitor QHD IPS Display(2560 * 1440),165Hz & 1ms, HDR 10, sRGB 99%(Typ.), G-SYNC, AMD FreeSync Premium, Anti-Glare, Height, Pivot, HDMI, DP Black',\n",
       "  'AED 979.00 ',\n",
       "  '4.5',\n",
       "  '15'],\n",
       " ['Wireless live streaming baby monitor with secured HD camera',\n",
       "  'AED 799.00 ',\n",
       "  '5.0',\n",
       "  '1'],\n",
       " ['Pro Baby Monitor + Wall Mount', 'AED 1172.15 ', '5.0', '2'],\n",
       " ['32- inch Odyssey Neo G8 4K UHD 240Hz 1ms G-Sync 1000R Curved Gaming Monitor, Quantum HDR2000, AMD FreeSync Premium Pro, Matte Display, Ultrawide Game View, DisplayPort, HDMI LS32BG850NMXUE Black',\n",
       "  'AED 2870.00 ',\n",
       "  '3.9',\n",
       "  '8'],\n",
       " ['32GN50R 32 Inch UltraGear Full HD Gaming Monitor with 165Hz, 1ms, HDMI, DisplayPort and NVIDIA G-SYNC Compatible Black',\n",
       "  'AED 775.00 ',\n",
       "  '4.0',\n",
       "  '22'],\n",
       " ['24 Inch FHD 1080p IPS LED Anti-Glare Monitor, AMD Free Sync, 70Hz, 300 nits, HDMI & VGA Ports, Tilt (m24f) Black',\n",
       "  'AED 458.00 ',\n",
       "  '4.4',\n",
       "  '9'],\n",
       " ['Monitor 24MP400 24 inch - Full HD, IPS Monitor, 60 Hz-75 HZ, 5 ms, 1920x1080 px, AMD FreeSync, 3-Side Virtually Borderless Design 24inch Black',\n",
       "  'AED 301.05 ',\n",
       "  '4.3',\n",
       "  '266'],\n",
       " ['29WQ600-W 29-Inch 21:9 UltraWide Full HD (2560 x 1080) 100Hz IPS Monitor, with RGB 99% Color Gamut with HDR10, USB Type-C, AMD FreeSync, Built in Speakers, 3-Side Virtually Borderless Design Silver',\n",
       "  'AED 743.95 ',\n",
       "  '4.0',\n",
       "  '41'],\n",
       " ['27 Inch VA QHD Gaming Monitor, 144Hz Refresh Rate, 16:9 Aspect Ratio, 1ms Response Time, FreeSync /G-Sync Technology, 90% DCI-P3 Color Gamut, VESA Compatible, DP1.2/HDMI*2, Black | 27E1QA',\n",
       "  'AED 599.00 ',\n",
       "  '4.0',\n",
       "  '1'],\n",
       " ['24.5 inch MOBIUZ Gaming Monitor FHD 1080p 165Hz 1ms | IPS | HDRi | 99% sRGB | Color Optimizer | Eye-Care Tech | Freesync | Adjustable Height, Swivel & Tilt | Speakers | DisplayPort | HDMI I EX2510S Dark Grey',\n",
       "  'AED 819.00 ',\n",
       "  '4.7',\n",
       "  '51'],\n",
       " ['24 inch QHD Gaming Monitor 165Hz, 1ms, Nano IPS, 2K display, 100% sRGB, Adaptive Sync, Height/Tilt/Pivot Adjustment, HDMI, DisplayPort, 100*100mm VESA Compatible (23.8inch/165Hz/1440p) GP01 Black',\n",
       "  'AED 649.00 ',\n",
       "  '5.0',\n",
       "  '2'],\n",
       " ['PD2705Q 27 inch 2K QHD 2560x1440 Designer Monitor,HDR10, sRGB, Rec.709,sRGB,IPS,USB-C(65W),USB Hub, AQCOLOR, Factory-Calibrated, CAD/CAM,Animation,M-Book,Speaker Ergonomic, ICC Sync Dark Grey',\n",
       "  'AED 1299.00 ',\n",
       "  '5.0',\n",
       "  '1'],\n",
       " ['GOP27QHD165 27-Inch QHD, 165Hz, 1ms (2560x1440) 2K Flat IPS Gaming Monitor With G-Sync & FreeSync (HDMI 2.1 Console Compatible) Black',\n",
       "  'AED 799.00 ',\n",
       "  '4.6',\n",
       "  '63'],\n",
       " ['GW2780 27 inch (68 cm) 1920 x 1080 Pixels IPS Full HD Ultra-Slim Bezel Monitor- Eye Care, Anti-Glare, Brightness Intelligence, Speakers, Low Blue Light, HDMI, DP, VESA Wall Mountable Black',\n",
       "  'AED 499.00 ',\n",
       "  '4.7',\n",
       "  '123']]"
      ]
     },
     "execution_count": 107,
     "metadata": {},
     "output_type": "execute_result"
    }
   ],
   "source": [
    "details"
   ]
  },
  {
   "cell_type": "code",
   "execution_count": 109,
   "id": "d003d672",
   "metadata": {},
   "outputs": [],
   "source": [
    "df = pd.DataFrame(details,columns = [\"Title\",\"Price\",\"Rating\",\"Reviews_no\"])"
   ]
  },
  {
   "cell_type": "markdown",
   "id": "2620cf45",
   "metadata": {},
   "source": [
    "##### Doing this for all the possible pages."
   ]
  },
  {
   "cell_type": "code",
   "execution_count": null,
   "id": "fb3eccde",
   "metadata": {},
   "outputs": [],
   "source": [
    "#iterating through the pages \n",
    "element = driver.find_element(By.XPATH, \"//a[@aria-label='Next page']\")\n",
    "element.click"
   ]
  },
  {
   "cell_type": "code",
   "execution_count": 129,
   "id": "e37971c1",
   "metadata": {
    "collapsed": true
   },
   "outputs": [
    {
     "ename": "NoSuchWindowException",
     "evalue": "Message: no such window: target window already closed\nfrom unknown error: web view not found\n  (Session info: chrome=123.0.6312.106)\nStacktrace:\n\tGetHandleVerifier [0x00007FF6C26D7072+63090]\n\t(No symbol) [0x00007FF6C2642CC2]\n\t(No symbol) [0x00007FF6C24DEC65]\n\t(No symbol) [0x00007FF6C24BCA7C]\n\t(No symbol) [0x00007FF6C254D687]\n\t(No symbol) [0x00007FF6C2562AC1]\n\t(No symbol) [0x00007FF6C2546D83]\n\t(No symbol) [0x00007FF6C25183A8]\n\t(No symbol) [0x00007FF6C2519441]\n\tGetHandleVerifier [0x00007FF6C2AD25CD+4238285]\n\tGetHandleVerifier [0x00007FF6C2B0F72D+4488493]\n\tGetHandleVerifier [0x00007FF6C2B07A0F+4456463]\n\tGetHandleVerifier [0x00007FF6C27B05B6+953270]\n\t(No symbol) [0x00007FF6C264E58F]\n\t(No symbol) [0x00007FF6C2649264]\n\t(No symbol) [0x00007FF6C264939B]\n\t(No symbol) [0x00007FF6C2639BD4]\n\tBaseThreadInitThunk [0x00007FF959A6257D+29]\n\tRtlUserThreadStart [0x00007FF95AA2AA58+40]\n",
     "output_type": "error",
     "traceback": [
      "\u001b[1;31m---------------------------------------------------------------------------\u001b[0m",
      "\u001b[1;31mNoSuchWindowException\u001b[0m                     Traceback (most recent call last)",
      "Cell \u001b[1;32mIn[129], line 3\u001b[0m\n\u001b[0;32m      1\u001b[0m \u001b[38;5;28;01mfor\u001b[39;00m i \u001b[38;5;129;01min\u001b[39;00m \u001b[38;5;28mrange\u001b[39m(\u001b[38;5;241m1\u001b[39m,\u001b[38;5;241m275\u001b[39m):\n\u001b[0;32m      2\u001b[0m     time\u001b[38;5;241m.\u001b[39msleep(\u001b[38;5;241m5\u001b[39m)\n\u001b[1;32m----> 3\u001b[0m     products \u001b[38;5;241m=\u001b[39m \u001b[43mdriver\u001b[49m\u001b[38;5;241;43m.\u001b[39;49m\u001b[43mfind_elements\u001b[49m\u001b[43m(\u001b[49m\u001b[43mBy\u001b[49m\u001b[38;5;241;43m.\u001b[39;49m\u001b[43mXPATH\u001b[49m\u001b[43m,\u001b[49m\u001b[43m \u001b[49m\u001b[38;5;124;43m\"\u001b[39;49m\u001b[38;5;124;43m//body/div/div/section/div/div/div/div[2]/div[1]/span\u001b[39;49m\u001b[38;5;124;43m\"\u001b[39;49m\u001b[43m)\u001b[49m\n\u001b[0;32m      4\u001b[0m     next_page \u001b[38;5;241m=\u001b[39m driver\u001b[38;5;241m.\u001b[39mfind_element(By\u001b[38;5;241m.\u001b[39mXPATH, \u001b[38;5;124m\"\u001b[39m\u001b[38;5;124m//a[@aria-label=\u001b[39m\u001b[38;5;124m'\u001b[39m\u001b[38;5;124mNext page\u001b[39m\u001b[38;5;124m'\u001b[39m\u001b[38;5;124m]\u001b[39m\u001b[38;5;124m\"\u001b[39m)\n\u001b[0;32m      5\u001b[0m     next_page\u001b[38;5;241m.\u001b[39mclick()\n",
      "File \u001b[1;32m~\\OneDrive\\Desktop\\College\\3rd year\\FDS\\Project\\fdsenv\\lib\\site-packages\\selenium\\webdriver\\remote\\webdriver.py:771\u001b[0m, in \u001b[0;36mWebDriver.find_elements\u001b[1;34m(self, by, value)\u001b[0m\n\u001b[0;32m    767\u001b[0m     value \u001b[38;5;241m=\u001b[39m \u001b[38;5;124mf\u001b[39m\u001b[38;5;124m'\u001b[39m\u001b[38;5;124m[name=\u001b[39m\u001b[38;5;124m\"\u001b[39m\u001b[38;5;132;01m{\u001b[39;00mvalue\u001b[38;5;132;01m}\u001b[39;00m\u001b[38;5;124m\"\u001b[39m\u001b[38;5;124m]\u001b[39m\u001b[38;5;124m'\u001b[39m\n\u001b[0;32m    769\u001b[0m \u001b[38;5;66;03m# Return empty list if driver returns null\u001b[39;00m\n\u001b[0;32m    770\u001b[0m \u001b[38;5;66;03m# See https://github.com/SeleniumHQ/selenium/issues/4555\u001b[39;00m\n\u001b[1;32m--> 771\u001b[0m \u001b[38;5;28;01mreturn\u001b[39;00m \u001b[38;5;28;43mself\u001b[39;49m\u001b[38;5;241;43m.\u001b[39;49m\u001b[43mexecute\u001b[49m\u001b[43m(\u001b[49m\u001b[43mCommand\u001b[49m\u001b[38;5;241;43m.\u001b[39;49m\u001b[43mFIND_ELEMENTS\u001b[49m\u001b[43m,\u001b[49m\u001b[43m \u001b[49m\u001b[43m{\u001b[49m\u001b[38;5;124;43m\"\u001b[39;49m\u001b[38;5;124;43musing\u001b[39;49m\u001b[38;5;124;43m\"\u001b[39;49m\u001b[43m:\u001b[49m\u001b[43m \u001b[49m\u001b[43mby\u001b[49m\u001b[43m,\u001b[49m\u001b[43m \u001b[49m\u001b[38;5;124;43m\"\u001b[39;49m\u001b[38;5;124;43mvalue\u001b[39;49m\u001b[38;5;124;43m\"\u001b[39;49m\u001b[43m:\u001b[49m\u001b[43m \u001b[49m\u001b[43mvalue\u001b[49m\u001b[43m}\u001b[49m\u001b[43m)\u001b[49m[\u001b[38;5;124m\"\u001b[39m\u001b[38;5;124mvalue\u001b[39m\u001b[38;5;124m\"\u001b[39m] \u001b[38;5;129;01mor\u001b[39;00m []\n",
      "File \u001b[1;32m~\\OneDrive\\Desktop\\College\\3rd year\\FDS\\Project\\fdsenv\\lib\\site-packages\\selenium\\webdriver\\remote\\webdriver.py:347\u001b[0m, in \u001b[0;36mWebDriver.execute\u001b[1;34m(self, driver_command, params)\u001b[0m\n\u001b[0;32m    345\u001b[0m response \u001b[38;5;241m=\u001b[39m \u001b[38;5;28mself\u001b[39m\u001b[38;5;241m.\u001b[39mcommand_executor\u001b[38;5;241m.\u001b[39mexecute(driver_command, params)\n\u001b[0;32m    346\u001b[0m \u001b[38;5;28;01mif\u001b[39;00m response:\n\u001b[1;32m--> 347\u001b[0m     \u001b[38;5;28;43mself\u001b[39;49m\u001b[38;5;241;43m.\u001b[39;49m\u001b[43merror_handler\u001b[49m\u001b[38;5;241;43m.\u001b[39;49m\u001b[43mcheck_response\u001b[49m\u001b[43m(\u001b[49m\u001b[43mresponse\u001b[49m\u001b[43m)\u001b[49m\n\u001b[0;32m    348\u001b[0m     response[\u001b[38;5;124m\"\u001b[39m\u001b[38;5;124mvalue\u001b[39m\u001b[38;5;124m\"\u001b[39m] \u001b[38;5;241m=\u001b[39m \u001b[38;5;28mself\u001b[39m\u001b[38;5;241m.\u001b[39m_unwrap_value(response\u001b[38;5;241m.\u001b[39mget(\u001b[38;5;124m\"\u001b[39m\u001b[38;5;124mvalue\u001b[39m\u001b[38;5;124m\"\u001b[39m, \u001b[38;5;28;01mNone\u001b[39;00m))\n\u001b[0;32m    349\u001b[0m     \u001b[38;5;28;01mreturn\u001b[39;00m response\n",
      "File \u001b[1;32m~\\OneDrive\\Desktop\\College\\3rd year\\FDS\\Project\\fdsenv\\lib\\site-packages\\selenium\\webdriver\\remote\\errorhandler.py:229\u001b[0m, in \u001b[0;36mErrorHandler.check_response\u001b[1;34m(self, response)\u001b[0m\n\u001b[0;32m    227\u001b[0m         alert_text \u001b[38;5;241m=\u001b[39m value[\u001b[38;5;124m\"\u001b[39m\u001b[38;5;124malert\u001b[39m\u001b[38;5;124m\"\u001b[39m]\u001b[38;5;241m.\u001b[39mget(\u001b[38;5;124m\"\u001b[39m\u001b[38;5;124mtext\u001b[39m\u001b[38;5;124m\"\u001b[39m)\n\u001b[0;32m    228\u001b[0m     \u001b[38;5;28;01mraise\u001b[39;00m exception_class(message, screen, stacktrace, alert_text)  \u001b[38;5;66;03m# type: ignore[call-arg]  # mypy is not smart enough here\u001b[39;00m\n\u001b[1;32m--> 229\u001b[0m \u001b[38;5;28;01mraise\u001b[39;00m exception_class(message, screen, stacktrace)\n",
      "\u001b[1;31mNoSuchWindowException\u001b[0m: Message: no such window: target window already closed\nfrom unknown error: web view not found\n  (Session info: chrome=123.0.6312.106)\nStacktrace:\n\tGetHandleVerifier [0x00007FF6C26D7072+63090]\n\t(No symbol) [0x00007FF6C2642CC2]\n\t(No symbol) [0x00007FF6C24DEC65]\n\t(No symbol) [0x00007FF6C24BCA7C]\n\t(No symbol) [0x00007FF6C254D687]\n\t(No symbol) [0x00007FF6C2562AC1]\n\t(No symbol) [0x00007FF6C2546D83]\n\t(No symbol) [0x00007FF6C25183A8]\n\t(No symbol) [0x00007FF6C2519441]\n\tGetHandleVerifier [0x00007FF6C2AD25CD+4238285]\n\tGetHandleVerifier [0x00007FF6C2B0F72D+4488493]\n\tGetHandleVerifier [0x00007FF6C2B07A0F+4456463]\n\tGetHandleVerifier [0x00007FF6C27B05B6+953270]\n\t(No symbol) [0x00007FF6C264E58F]\n\t(No symbol) [0x00007FF6C2649264]\n\t(No symbol) [0x00007FF6C264939B]\n\t(No symbol) [0x00007FF6C2639BD4]\n\tBaseThreadInitThunk [0x00007FF959A6257D+29]\n\tRtlUserThreadStart [0x00007FF95AA2AA58+40]\n"
     ]
    }
   ],
   "source": [
    "for i in range(1,275):\n",
    "    time.sleep(5)\n",
    "    products = driver.find_elements(By.XPATH, \"//body/div/div/section/div/div/div/div[2]/div[1]/span\")\n",
    "    next_page = driver.find_element(By.XPATH, \"//a[@aria-label='Next page']\")\n",
    "    next_page.click()"
   ]
  },
  {
   "cell_type": "code",
   "execution_count": null,
   "id": "7ddcd40d",
   "metadata": {},
   "outputs": [],
   "source": [
    "details = []\n",
    "for i in range(1,275):\n",
    "    products = driver.find_elements(By.XPATH, \"//body/div/div/section/div/div/div/div[2]/div[1]/span\")\n",
    "    for product in products:\n",
    "        try:\n",
    "            link = product.find_element(By.XPATH, \"./div[1]/a[1]\").get_attribute('href')\n",
    "            driver.switch_to.new_window('tab')    #opens a new tab which means the driver switches into a new tab\n",
    "            driver.get(link)    \n",
    "            title = driver.find_element(By.XPATH, \"//body//div//div//section//div//div//div//div//div//div//div//h1\").text\n",
    "            price = driver.find_element(By.XPATH, \"//div[@data-qa='div-price-now']\").text.split('\\n')[0]\n",
    "            overall = driver.find_element(By.XPATH,\"//body/div/div/section/div/div/div/div/div/div/div/div/div/div/div/div/a/div[1]\").text\n",
    "            details.append([title, price,overall.split('\\n')[0],overall.split('\\n')[1] ])\n",
    "            driver.close()          #closing the opened tab \n",
    "            driver.switch_to.window(driver.window_handles[0])      #Switching back to the old tab.\n",
    "        except:\n",
    "            driver.close()           \n",
    "            driver.switch_to.window(driver.window_handles[0])\n",
    "            pass\n",
    "    next_page = driver.find_element(By.XPATH, \"//a[@aria-label='Next page']\")\n",
    "    next_page.click()"
   ]
  },
  {
   "cell_type": "markdown",
   "id": "054fb762",
   "metadata": {},
   "source": [
    "#### Final Script"
   ]
  },
  {
   "cell_type": "code",
   "execution_count": null,
   "id": "77d97fb2",
   "metadata": {},
   "outputs": [],
   "source": [
    "options = webdriver.ChromeOptions()\n",
    "driver = webdriver.Chrome(options=options)\n",
    "driver.get(\"https://www.noon.com/uae-en/\")\n",
    "driver.maximize_window()\n",
    "search_bar = driver.find_element(By.XPATH,\"//input[@id='searchBar']\")\n",
    "search_bar.click()\n",
    "search_bar.send_keys(\"Monitor\")\n",
    "search_bar.send_keys(Keys.ENTER)\n",
    "\n",
    "details = []\n",
    "for i in range(1,275):\n",
    "    products = driver.find_elements(By.XPATH, \"//body/div/div/section/div/div/div/div[2]/div[1]/span\")\n",
    "    for product in products:\n",
    "        try:\n",
    "            link = product.find_element(By.XPATH, \"./div[1]/a[1]\").get_attribute('href')\n",
    "            driver.switch_to.new_window('tab') \n",
    "            driver.get(link)    \n",
    "            title = driver.find_element(By.XPATH, \"//body//div//div//section//div//div//div//div//div//div//div//h1\").text\n",
    "            price = driver.find_element(By.XPATH, \"//div[@data-qa='div-price-now']\").text.split('\\n')[0]\n",
    "            overall = driver.find_element(By.XPATH,\"//body/div/div/section/div/div/div/div/div/div/div/div/div/div/div/div/a/div[1]\").text\n",
    "            details.append([title, price,overall.split('\\n')[0],overall.split('\\n')[1] ])\n",
    "            driver.close()          \n",
    "            driver.switch_to.window(driver.window_handles[0])  \n",
    "        except:\n",
    "            driver.close()           \n",
    "            driver.switch_to.window(driver.window_handles[0])\n",
    "            pass\n",
    "        break\n",
    "    next_page = driver.find_element(By.XPATH, \"//img[@alt='Next Page']\")\n",
    "    next_page.click()"
   ]
  },
  {
   "cell_type": "code",
   "execution_count": 4,
   "id": "c351c31f",
   "metadata": {},
   "outputs": [],
   "source": [
    "next_page = driver.find_element(By.XPATH, \"//a[@aria-label='Next page']\")\n",
    "next_page.click()"
   ]
  },
  {
   "cell_type": "code",
   "execution_count": 5,
   "id": "dbac1c25",
   "metadata": {},
   "outputs": [],
   "source": [
    "#saving the data in dataframe.\n",
    "df = pd.DataFrame(details,columns = [\"Title\",\"Price\",\"Rating\",\"Reviews_no\"])"
   ]
  },
  {
   "cell_type": "code",
   "execution_count": 6,
   "id": "203768aa",
   "metadata": {},
   "outputs": [
    {
     "data": {
      "text/html": [
       "<div>\n",
       "<style scoped>\n",
       "    .dataframe tbody tr th:only-of-type {\n",
       "        vertical-align: middle;\n",
       "    }\n",
       "\n",
       "    .dataframe tbody tr th {\n",
       "        vertical-align: top;\n",
       "    }\n",
       "\n",
       "    .dataframe thead th {\n",
       "        text-align: right;\n",
       "    }\n",
       "</style>\n",
       "<table border=\"1\" class=\"dataframe\">\n",
       "  <thead>\n",
       "    <tr style=\"text-align: right;\">\n",
       "      <th></th>\n",
       "      <th>Title</th>\n",
       "      <th>Price</th>\n",
       "      <th>Rating</th>\n",
       "      <th>Reviews_no</th>\n",
       "    </tr>\n",
       "  </thead>\n",
       "  <tbody>\n",
       "    <tr>\n",
       "      <th>0</th>\n",
       "      <td>27 inch Flat Monitor With FHD (1920X1080) Disp...</td>\n",
       "      <td>AED 285.00</td>\n",
       "      <td>4.6</td>\n",
       "      <td>209</td>\n",
       "    </tr>\n",
       "    <tr>\n",
       "      <th>1</th>\n",
       "      <td>24 Inch IPS FHD Essential Monitor, 75hz Border...</td>\n",
       "      <td>AED 245.00</td>\n",
       "      <td>4.3</td>\n",
       "      <td>58</td>\n",
       "    </tr>\n",
       "    <tr>\n",
       "      <th>2</th>\n",
       "      <td>27-Inch Full HD Gaming Monitor, 1920 x 1080, 1...</td>\n",
       "      <td>AED 349.00</td>\n",
       "      <td>4.9</td>\n",
       "      <td>14</td>\n",
       "    </tr>\n",
       "    <tr>\n",
       "      <th>3</th>\n",
       "      <td>27 Inch Curved 75hz  Monitor With 1000R Curvat...</td>\n",
       "      <td>AED 390.00</td>\n",
       "      <td>4.2</td>\n",
       "      <td>37</td>\n",
       "    </tr>\n",
       "    <tr>\n",
       "      <th>4</th>\n",
       "      <td>24 Inch Essential Curved Monitor, 75Hz AMD Fre...</td>\n",
       "      <td>AED 248.00</td>\n",
       "      <td>4.2</td>\n",
       "      <td>33</td>\n",
       "    </tr>\n",
       "  </tbody>\n",
       "</table>\n",
       "</div>"
      ],
      "text/plain": [
       "                                               Title        Price Rating  \\\n",
       "0  27 inch Flat Monitor With FHD (1920X1080) Disp...  AED 285.00     4.6   \n",
       "1  24 Inch IPS FHD Essential Monitor, 75hz Border...  AED 245.00     4.3   \n",
       "2  27-Inch Full HD Gaming Monitor, 1920 x 1080, 1...  AED 349.00     4.9   \n",
       "3  27 Inch Curved 75hz  Monitor With 1000R Curvat...  AED 390.00     4.2   \n",
       "4  24 Inch Essential Curved Monitor, 75Hz AMD Fre...  AED 248.00     4.2   \n",
       "\n",
       "  Reviews_no  \n",
       "0        209  \n",
       "1         58  \n",
       "2         14  \n",
       "3         37  \n",
       "4         33  "
      ]
     },
     "execution_count": 6,
     "metadata": {},
     "output_type": "execute_result"
    }
   ],
   "source": [
    "df.head()"
   ]
  }
 ],
 "metadata": {
  "kernelspec": {
   "display_name": "fdsenv",
   "language": "python",
   "name": "fdsenv"
  },
  "language_info": {
   "codemirror_mode": {
    "name": "ipython",
    "version": 3
   },
   "file_extension": ".py",
   "mimetype": "text/x-python",
   "name": "python",
   "nbconvert_exporter": "python",
   "pygments_lexer": "ipython3",
   "version": "3.10.9"
  }
 },
 "nbformat": 4,
 "nbformat_minor": 5
}
